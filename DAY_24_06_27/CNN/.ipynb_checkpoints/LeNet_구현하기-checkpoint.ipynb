{
 "cells": [
  {
   "cell_type": "code",
   "execution_count": 1,
   "id": "c392d81f-8f47-4aa8-942b-b612c14f0b8b",
   "metadata": {},
   "outputs": [],
   "source": [
    "from tensorflow.keras.models import Sequential\n",
    "from tensorflow.keras.layers import Input, Conv2D, AveragePooling2D, Flatten, Dense\n",
    "\n",
    "class LeNet:\n",
    "\n",
    "    @staticmethod\n",
    "    def build(input_shape=(32,32,1), activation='sigmoid'):\n",
    "        model = Sequential()\n",
    "\n",
    "        # 첫 번째 합성곱 층\n",
    "        model.add(Input(shape=input_shape))\n",
    "        model.add(Conv2D(6, (5,5), activation=activation, \n",
    "                         kernel_initializer='random_normal'))\n",
    "        model.add(AveragePooling2D())\n",
    "\n",
    "        # 두 번째 합성곱 층\n",
    "        model.add(Conv2D(16, 6, activation=activation,\n",
    "                        kernel_initializer='random_normal'))\n",
    "        model.add(AveragePooling2D())\n",
    "\n",
    "        model.add(Flatten())\n",
    "        model.add(Dense(120, activation=activation))\n",
    "        model.add(Dense(84, activation=activation))\n",
    "        model.add(Dense(10, activation='softmax'))\n",
    "\n",
    "        return model"
   ]
  },
  {
   "cell_type": "code",
   "execution_count": 3,
   "id": "50b9373d-f861-4920-8689-4a1672504d96",
   "metadata": {},
   "outputs": [
    {
     "name": "stdout",
     "output_type": "stream",
     "text": [
      "Model: \"sequential\"\n",
      "_________________________________________________________________\n",
      " Layer (type)                Output Shape              Param #   \n",
      "=================================================================\n",
      " conv2d (Conv2D)             (None, 24, 24, 6)         156       \n",
      "                                                                 \n",
      " average_pooling2d (Average  (None, 12, 12, 6)         0         \n",
      " Pooling2D)                                                      \n",
      "                                                                 \n",
      " conv2d_1 (Conv2D)           (None, 7, 7, 16)          3472      \n",
      "                                                                 \n",
      " average_pooling2d_1 (Avera  (None, 3, 3, 16)          0         \n",
      " gePooling2D)                                                    \n",
      "                                                                 \n",
      " flatten (Flatten)           (None, 144)               0         \n",
      "                                                                 \n",
      " dense (Dense)               (None, 120)               17400     \n",
      "                                                                 \n",
      " dense_1 (Dense)             (None, 84)                10164     \n",
      "                                                                 \n",
      " dense_2 (Dense)             (None, 10)                850       \n",
      "                                                                 \n",
      "=================================================================\n",
      "Total params: 32042 (125.16 KB)\n",
      "Trainable params: 32042 (125.16 KB)\n",
      "Non-trainable params: 0 (0.00 Byte)\n",
      "_________________________________________________________________\n"
     ]
    }
   ],
   "source": [
    "model = LeNet.build(input_shape=(28,28,1), activation='relu')\n",
    "model.summary()"
   ]
  },
  {
   "cell_type": "code",
   "execution_count": 4,
   "id": "d79a43e7-0b57-4675-96ce-6a35fbb16780",
   "metadata": {},
   "outputs": [],
   "source": [
    "model.compile(loss='sparse_categorical_crossentropy',\n",
    "              optimizer='sgd',\n",
    "              metrics=['accuracy'])"
   ]
  },
  {
   "cell_type": "code",
   "execution_count": 5,
   "id": "6b7364af-82d1-4093-a88f-c61d5f8a3b4e",
   "metadata": {},
   "outputs": [],
   "source": [
    "from tensorflow.keras.datasets import mnist\n",
    "(train_X, train_y), (test_X, test_y) = mnist.load_data()"
   ]
  },
  {
   "cell_type": "code",
   "execution_count": 6,
   "id": "c0b75a88-32f5-47a4-9962-cfc585d7baf4",
   "metadata": {},
   "outputs": [],
   "source": [
    "train_X = train_X.reshape(-1, 28, 28, 1) / 255.0\n",
    "test_X = test_X.reshape(-1, 28, 28, 1) / 255.0"
   ]
  },
  {
   "cell_type": "code",
   "execution_count": 7,
   "id": "53a9dd95-7cf7-46d5-9446-2c45f6f66ffc",
   "metadata": {},
   "outputs": [
    {
     "name": "stdout",
     "output_type": "stream",
     "text": [
      "Epoch 1/20\n",
      "300/300 [==============================] - 4s 13ms/step - loss: 2.1633 - accuracy: 0.2639\n",
      "Epoch 2/20\n",
      "300/300 [==============================] - 4s 13ms/step - loss: 0.7456 - accuracy: 0.7938\n",
      "Epoch 3/20\n",
      "300/300 [==============================] - 4s 12ms/step - loss: 0.4361 - accuracy: 0.8682\n",
      "Epoch 4/20\n",
      "300/300 [==============================] - 4s 13ms/step - loss: 0.3580 - accuracy: 0.8932\n",
      "Epoch 5/20\n",
      "300/300 [==============================] - 4s 12ms/step - loss: 0.3130 - accuracy: 0.9057\n",
      "Epoch 6/20\n",
      "300/300 [==============================] - 4s 13ms/step - loss: 0.2772 - accuracy: 0.9171\n",
      "Epoch 7/20\n",
      "300/300 [==============================] - 4s 13ms/step - loss: 0.2527 - accuracy: 0.9239\n",
      "Epoch 8/20\n",
      "300/300 [==============================] - 4s 13ms/step - loss: 0.2320 - accuracy: 0.9295\n",
      "Epoch 9/20\n",
      "300/300 [==============================] - 4s 13ms/step - loss: 0.2162 - accuracy: 0.9348\n",
      "Epoch 10/20\n",
      "300/300 [==============================] - 4s 13ms/step - loss: 0.2000 - accuracy: 0.9396\n",
      "Epoch 11/20\n",
      "300/300 [==============================] - 4s 13ms/step - loss: 0.1874 - accuracy: 0.9432\n",
      "Epoch 12/20\n",
      "300/300 [==============================] - 4s 13ms/step - loss: 0.1782 - accuracy: 0.9459\n",
      "Epoch 13/20\n",
      "300/300 [==============================] - 4s 13ms/step - loss: 0.1673 - accuracy: 0.9493\n",
      "Epoch 14/20\n",
      "300/300 [==============================] - 4s 13ms/step - loss: 0.1593 - accuracy: 0.9513\n",
      "Epoch 15/20\n",
      "300/300 [==============================] - 4s 13ms/step - loss: 0.1521 - accuracy: 0.9545\n",
      "Epoch 16/20\n",
      "300/300 [==============================] - 4s 13ms/step - loss: 0.1465 - accuracy: 0.9554\n",
      "Epoch 17/20\n",
      "300/300 [==============================] - 4s 13ms/step - loss: 0.1404 - accuracy: 0.9572\n",
      "Epoch 18/20\n",
      "300/300 [==============================] - 4s 13ms/step - loss: 0.1360 - accuracy: 0.9579\n",
      "Epoch 19/20\n",
      "300/300 [==============================] - 4s 13ms/step - loss: 0.1306 - accuracy: 0.9597\n",
      "Epoch 20/20\n",
      "300/300 [==============================] - 4s 13ms/step - loss: 0.1262 - accuracy: 0.9611\n"
     ]
    },
    {
     "data": {
      "text/plain": [
       "<keras.src.callbacks.History at 0x1c71c40a890>"
      ]
     },
     "execution_count": 7,
     "metadata": {},
     "output_type": "execute_result"
    }
   ],
   "source": [
    "model.fit(train_X, train_y, batch_size=200, epochs=20)"
   ]
  },
  {
   "cell_type": "code",
   "execution_count": 8,
   "id": "2cf38491-9d5b-46d2-9bee-d3da89469e53",
   "metadata": {},
   "outputs": [
    {
     "name": "stdout",
     "output_type": "stream",
     "text": [
      "313/313 [==============================] - 1s 2ms/step - loss: 0.1223 - accuracy: 0.9631\n",
      "정확도: 96.31%\n"
     ]
    }
   ],
   "source": [
    "loss, accuracy = model.evaluate(test_X, test_y)\n",
    "print(f'정확도: {accuracy*100:.2f}%')"
   ]
  },
  {
   "cell_type": "code",
   "execution_count": 9,
   "id": "dc93d8b9-2865-4f24-9939-c09abec253ad",
   "metadata": {},
   "outputs": [],
   "source": [
    "model.save('mnist-lenet.keras')"
   ]
  },
  {
   "cell_type": "code",
   "execution_count": null,
   "id": "0e8519e6-7179-4261-a706-11b31fc2e29e",
   "metadata": {},
   "outputs": [],
   "source": []
  }
 ],
 "metadata": {
  "kernelspec": {
   "display_name": "tf2.14",
   "language": "python",
   "name": "tf2.14"
  },
  "language_info": {
   "codemirror_mode": {
    "name": "ipython",
    "version": 3
   },
   "file_extension": ".py",
   "mimetype": "text/x-python",
   "name": "python",
   "nbconvert_exporter": "python",
   "pygments_lexer": "ipython3",
   "version": "3.11.9"
  }
 },
 "nbformat": 4,
 "nbformat_minor": 5
}

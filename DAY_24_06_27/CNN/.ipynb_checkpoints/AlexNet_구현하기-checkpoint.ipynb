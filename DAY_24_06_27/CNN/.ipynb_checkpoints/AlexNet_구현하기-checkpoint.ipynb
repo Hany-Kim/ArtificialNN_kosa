{
 "cells": [
  {
   "cell_type": "code",
   "execution_count": 5,
   "id": "b249e9bd-c3f6-48de-817e-d0417948cc2b",
   "metadata": {},
   "outputs": [],
   "source": [
    "from tensorflow.keras.models import Sequential\n",
    "from tensorflow.keras.layers import Dense, Flatten, Conv2D, MaxPooling2D, BatchNormalization, Dropout\n",
    "\n",
    "class AlexNet:\n",
    "    @staticmethod\n",
    "    def build(input_shape=(224, 224, 3), activation=\"relu\", class_num=1000):\n",
    "        model = Sequential()\n",
    "\n",
    "        model.add(Conv2D(96, 11, strides=(4,4),\n",
    "                    input_shape=input_shape,\n",
    "                    activation=activation,\n",
    "                    padding=\"same\"))\n",
    "        model.add(MaxPooling2D(pool_size=(3,3), strides=2))\n",
    "        model.add(BatchNormalization())\n",
    "\n",
    "        model.add(Conv2D(256, 5, activation=activation, padding=\"same\"))\n",
    "        model.add(MaxPooling2D(pool_size=(3,3), strides=2))\n",
    "        model.add(BatchNormalization())\n",
    "\n",
    "        model.add(Conv2D(384, 3, activation=activation, padding=\"same\"))\n",
    "        model.add(Conv2D(384, 3, activation=activation, padding=\"same\"))\n",
    "        model.add(Conv2D(256, 3, activation=activation, padding=\"same\"))\n",
    "\n",
    "        model.add(Flatten())\n",
    "        model.add(Dense(4096, activation=activation))\n",
    "        model.add(Dropout(0.4))\n",
    "        model.add(Dense(4096, activation=activation))\n",
    "        model.add(Dropout(0.4))\n",
    "        model.add(Dense(class_num, activation=\"softmax\"))\n",
    "\n",
    "        return model"
   ]
  },
  {
   "cell_type": "code",
   "execution_count": 6,
   "id": "a8f8924e-8c10-4606-ae2d-36fd02216762",
   "metadata": {},
   "outputs": [
    {
     "name": "stdout",
     "output_type": "stream",
     "text": [
      "Model: \"sequential_1\"\n",
      "_________________________________________________________________\n",
      " Layer (type)                Output Shape              Param #   \n",
      "=================================================================\n",
      " conv2d_5 (Conv2D)           (None, 56, 56, 96)        34944     \n",
      "                                                                 \n",
      " max_pooling2d_2 (MaxPoolin  (None, 27, 27, 96)        0         \n",
      " g2D)                                                            \n",
      "                                                                 \n",
      " batch_normalization_2 (Bat  (None, 27, 27, 96)        384       \n",
      " chNormalization)                                                \n",
      "                                                                 \n",
      " conv2d_6 (Conv2D)           (None, 27, 27, 256)       614656    \n",
      "                                                                 \n",
      " max_pooling2d_3 (MaxPoolin  (None, 13, 13, 256)       0         \n",
      " g2D)                                                            \n",
      "                                                                 \n",
      " batch_normalization_3 (Bat  (None, 13, 13, 256)       1024      \n",
      " chNormalization)                                                \n",
      "                                                                 \n",
      " conv2d_7 (Conv2D)           (None, 13, 13, 384)       885120    \n",
      "                                                                 \n",
      " conv2d_8 (Conv2D)           (None, 13, 13, 384)       1327488   \n",
      "                                                                 \n",
      " conv2d_9 (Conv2D)           (None, 13, 13, 256)       884992    \n",
      "                                                                 \n",
      " flatten_1 (Flatten)         (None, 43264)             0         \n",
      "                                                                 \n",
      " dense_1 (Dense)             (None, 4096)              177213440 \n",
      "                                                                 \n",
      " dropout (Dropout)           (None, 4096)              0         \n",
      "                                                                 \n",
      " dense_2 (Dense)             (None, 4096)              16781312  \n",
      "                                                                 \n",
      " dropout_1 (Dropout)         (None, 4096)              0         \n",
      "                                                                 \n",
      " dense_3 (Dense)             (None, 1000)              4097000   \n",
      "                                                                 \n",
      "=================================================================\n",
      "Total params: 201840360 (769.96 MB)\n",
      "Trainable params: 201839656 (769.96 MB)\n",
      "Non-trainable params: 704 (2.75 KB)\n",
      "_________________________________________________________________\n"
     ]
    }
   ],
   "source": [
    "model = AlexNet.build(input_shape=(224,224,3))\n",
    "model.summary()"
   ]
  },
  {
   "cell_type": "code",
   "execution_count": 7,
   "id": "e9490832-e96b-4aad-a6fa-a08eb3e11c05",
   "metadata": {},
   "outputs": [],
   "source": [
    "model = AlexNet.build(input_shape=(32,32,3), class_num=10)\n",
    "\n",
    "model.compile(loss=\"sparse_categorical_crossentropy\",\n",
    "              optimizer=\"adam\", metrics=[\"accuracy\"])"
   ]
  },
  {
   "cell_type": "code",
   "execution_count": 9,
   "id": "ee40da57-7e13-49a0-bc85-7415358cfe92",
   "metadata": {},
   "outputs": [
    {
     "name": "stdout",
     "output_type": "stream",
     "text": [
      "Downloading data from https://www.cs.toronto.edu/~kriz/cifar-10-python.tar.gz\n",
      "170498071/170498071 [==============================] - 33s 0us/step\n"
     ]
    }
   ],
   "source": [
    "from tensorflow.keras.datasets import cifar10\n",
    "\n",
    "(train_X, train_y), (test_X, test_y) = cifar10.load_data()"
   ]
  },
  {
   "cell_type": "code",
   "execution_count": null,
   "id": "f87a5b4b-4cd1-4700-ad09-fd71e4423147",
   "metadata": {},
   "outputs": [
    {
     "name": "stdout",
     "output_type": "stream",
     "text": [
      "Epoch 1/20\n",
      "391/391 [==============================] - 205s 522ms/step - loss: 1.6314 - accuracy: 0.3935 - val_loss: 1.6066 - val_accuracy: 0.4294\n",
      "Epoch 2/20\n",
      "230/391 [================>.............] - ETA: 1:22 - loss: 1.3628 - accuracy: 0.5108"
     ]
    }
   ],
   "source": [
    "from tensorflow.keras.datasets import cifar10\n",
    "\n",
    "(train_X, train_y), (test_X, test_y) = cifar10.load_data()\n",
    "history = model.fit(train_X, train_y,\n",
    "                    validation_data=(test_X, test_y),\n",
    "                    batch_size=128, epochs=20, verbose=1)"
   ]
  },
  {
   "cell_type": "code",
   "execution_count": null,
   "id": "b3d2c8e3-19c0-4a0c-9fbb-8129989db3d5",
   "metadata": {},
   "outputs": [],
   "source": [
    "loss, accuracy = model.evaluate(test_X, test_y, verbose=1)\n",
    "print(f\"Loss: {loss}, Accuracy: {accuracy}\")"
   ]
  },
  {
   "cell_type": "code",
   "execution_count": null,
   "id": "02e592c6-d6ea-46a9-8789-21d23cdc1cd3",
   "metadata": {},
   "outputs": [],
   "source": []
  }
 ],
 "metadata": {
  "kernelspec": {
   "display_name": "tf2.14",
   "language": "python",
   "name": "tf2.14"
  },
  "language_info": {
   "codemirror_mode": {
    "name": "ipython",
    "version": 3
   },
   "file_extension": ".py",
   "mimetype": "text/x-python",
   "name": "python",
   "nbconvert_exporter": "python",
   "pygments_lexer": "ipython3",
   "version": "3.11.9"
  }
 },
 "nbformat": 4,
 "nbformat_minor": 5
}

{
 "cells": [
  {
   "cell_type": "code",
   "execution_count": 1,
   "id": "d110d515-dc7f-4bc7-a468-b9504b1e5730",
   "metadata": {},
   "outputs": [
    {
     "name": "stdout",
     "output_type": "stream",
     "text": [
      "2.14.0\n"
     ]
    }
   ],
   "source": [
    "import tensorflow as tf\n",
    "print(tf.__version__)"
   ]
  },
  {
   "cell_type": "code",
   "execution_count": 2,
   "id": "81e99833-5581-49a3-862b-e1d643b16d1a",
   "metadata": {},
   "outputs": [
    {
     "name": "stdout",
     "output_type": "stream",
     "text": [
      "1.26.4\n"
     ]
    }
   ],
   "source": [
    "import numpy as np\n",
    "print(np.__version__)"
   ]
  },
  {
   "cell_type": "code",
   "execution_count": 3,
   "id": "ff9f48dc-81db-4d3d-ba1f-409af962ebf0",
   "metadata": {},
   "outputs": [
    {
     "name": "stdout",
     "output_type": "stream",
     "text": [
      "Model: \"sequential\"\n",
      "_________________________________________________________________\n",
      " Layer (type)                Output Shape              Param #   \n",
      "=================================================================\n",
      " dense (Dense)               (None, 50)                250       \n",
      "                                                                 \n",
      " dense_1 (Dense)             (None, 30)                1530      \n",
      "                                                                 \n",
      " dense_2 (Dense)             (None, 3)                 93        \n",
      "                                                                 \n",
      "=================================================================\n",
      "Total params: 1873 (7.32 KB)\n",
      "Trainable params: 1873 (7.32 KB)\n",
      "Non-trainable params: 0 (0.00 Byte)\n",
      "_________________________________________________________________\n"
     ]
    }
   ],
   "source": [
    "from tensorflow.keras import layers\n",
    "from tensorflow.keras.models import Sequential\n",
    "\n",
    "model = Sequential()\n",
    "model.add(layers.Input(shape=(4,))) # 열 4개\n",
    "model.add(layers.Dense(50, activation='sigmoid')) # uniform: , 뉴련의 갯수 : 50\n",
    "model.add(layers.Dense(30, activation='sigmoid'))\n",
    "model.add(layers.Dense(3, activation='softmax'))\n",
    "model.summary()"
   ]
  },
  {
   "cell_type": "code",
   "execution_count": 5,
   "id": "c49f25ea-fcaa-4efc-b5d8-4c92979ea586",
   "metadata": {},
   "outputs": [],
   "source": [
    "# 훈련 정의함\n",
    "model.compile(optimizer='adam', loss='sparse_categorical_crossentropy',\n",
    "              metrics=['accuracy'])"
   ]
  },
  {
   "cell_type": "code",
   "execution_count": 7,
   "id": "ca474ff6-d8f4-43fe-90db-96fbccfccac5",
   "metadata": {},
   "outputs": [],
   "source": [
    "from sklearn import datasets\n",
    "iris = datasets.load_iris()\n",
    "iris_X = iris.data\n",
    "iris_y = iris.target"
   ]
  },
  {
   "cell_type": "code",
   "execution_count": 8,
   "id": "ac6c83c9-ed0f-45c7-8564-d8b8947fad9b",
   "metadata": {},
   "outputs": [],
   "source": [
    "from sklearn.model_selection import train_test_split\n",
    "train_X, test_X, train_y, test_y = train_test_split(iris_X, iris_y)"
   ]
  },
  {
   "cell_type": "code",
   "execution_count": 9,
   "id": "77a3b13e-6cdf-43d3-939a-6ffd3bfb5202",
   "metadata": {},
   "outputs": [
    {
     "name": "stdout",
     "output_type": "stream",
     "text": [
      "Epoch 1/100\n",
      "4/4 [==============================] - 1s 3ms/step - loss: 1.2423 - accuracy: 0.1161\n",
      "Epoch 2/100\n",
      "4/4 [==============================] - 0s 2ms/step - loss: 1.1861 - accuracy: 0.2500\n",
      "Epoch 3/100\n",
      "4/4 [==============================] - 0s 2ms/step - loss: 1.1428 - accuracy: 0.3482\n",
      "Epoch 4/100\n",
      "4/4 [==============================] - 0s 2ms/step - loss: 1.1150 - accuracy: 0.3482\n",
      "Epoch 5/100\n",
      "4/4 [==============================] - 0s 2ms/step - loss: 1.1050 - accuracy: 0.3482\n",
      "Epoch 6/100\n",
      "4/4 [==============================] - 0s 2ms/step - loss: 1.0930 - accuracy: 0.3571\n",
      "Epoch 7/100\n",
      "4/4 [==============================] - 0s 7ms/step - loss: 1.0873 - accuracy: 0.5357\n",
      "Epoch 8/100\n",
      "4/4 [==============================] - 0s 3ms/step - loss: 1.0812 - accuracy: 0.3393\n",
      "Epoch 9/100\n",
      "4/4 [==============================] - 0s 2ms/step - loss: 1.0742 - accuracy: 0.5000\n",
      "Epoch 10/100\n",
      "4/4 [==============================] - 0s 2ms/step - loss: 1.0661 - accuracy: 0.6786\n",
      "Epoch 11/100\n",
      "4/4 [==============================] - 0s 2ms/step - loss: 1.0580 - accuracy: 0.6875\n",
      "Epoch 12/100\n",
      "4/4 [==============================] - 0s 2ms/step - loss: 1.0507 - accuracy: 0.6875\n",
      "Epoch 13/100\n",
      "4/4 [==============================] - 0s 2ms/step - loss: 1.0429 - accuracy: 0.6875\n",
      "Epoch 14/100\n",
      "4/4 [==============================] - 0s 2ms/step - loss: 1.0358 - accuracy: 0.6875\n",
      "Epoch 15/100\n",
      "4/4 [==============================] - 0s 2ms/step - loss: 1.0276 - accuracy: 0.6875\n",
      "Epoch 16/100\n",
      "4/4 [==============================] - 0s 2ms/step - loss: 1.0200 - accuracy: 0.6875\n",
      "Epoch 17/100\n",
      "4/4 [==============================] - 0s 2ms/step - loss: 1.0117 - accuracy: 0.6875\n",
      "Epoch 18/100\n",
      "4/4 [==============================] - 0s 2ms/step - loss: 1.0027 - accuracy: 0.6875\n",
      "Epoch 19/100\n",
      "4/4 [==============================] - 0s 2ms/step - loss: 0.9923 - accuracy: 0.6875\n",
      "Epoch 20/100\n",
      "4/4 [==============================] - 0s 2ms/step - loss: 0.9829 - accuracy: 0.6875\n",
      "Epoch 21/100\n",
      "4/4 [==============================] - 0s 2ms/step - loss: 0.9723 - accuracy: 0.6875\n",
      "Epoch 22/100\n",
      "4/4 [==============================] - 0s 2ms/step - loss: 0.9620 - accuracy: 0.6875\n",
      "Epoch 23/100\n",
      "4/4 [==============================] - 0s 2ms/step - loss: 0.9508 - accuracy: 0.6875\n",
      "Epoch 24/100\n",
      "4/4 [==============================] - 0s 2ms/step - loss: 0.9389 - accuracy: 0.6875\n",
      "Epoch 25/100\n",
      "4/4 [==============================] - 0s 2ms/step - loss: 0.9265 - accuracy: 0.6875\n",
      "Epoch 26/100\n",
      "4/4 [==============================] - 0s 2ms/step - loss: 0.9136 - accuracy: 0.6875\n",
      "Epoch 27/100\n",
      "4/4 [==============================] - 0s 2ms/step - loss: 0.8994 - accuracy: 0.6875\n",
      "Epoch 28/100\n",
      "4/4 [==============================] - 0s 2ms/step - loss: 0.8855 - accuracy: 0.6875\n",
      "Epoch 29/100\n",
      "4/4 [==============================] - 0s 2ms/step - loss: 0.8705 - accuracy: 0.6875\n",
      "Epoch 30/100\n",
      "4/4 [==============================] - 0s 2ms/step - loss: 0.8553 - accuracy: 0.6875\n",
      "Epoch 31/100\n",
      "4/4 [==============================] - 0s 2ms/step - loss: 0.8401 - accuracy: 0.6875\n",
      "Epoch 32/100\n",
      "4/4 [==============================] - 0s 2ms/step - loss: 0.8254 - accuracy: 0.6875\n",
      "Epoch 33/100\n",
      "4/4 [==============================] - 0s 2ms/step - loss: 0.8099 - accuracy: 0.6875\n",
      "Epoch 34/100\n",
      "4/4 [==============================] - 0s 2ms/step - loss: 0.7928 - accuracy: 0.6875\n",
      "Epoch 35/100\n",
      "4/4 [==============================] - 0s 2ms/step - loss: 0.7764 - accuracy: 0.6875\n",
      "Epoch 36/100\n",
      "4/4 [==============================] - 0s 2ms/step - loss: 0.7608 - accuracy: 0.6875\n",
      "Epoch 37/100\n",
      "4/4 [==============================] - 0s 2ms/step - loss: 0.7451 - accuracy: 0.6875\n",
      "Epoch 38/100\n",
      "4/4 [==============================] - 0s 2ms/step - loss: 0.7297 - accuracy: 0.7143\n",
      "Epoch 39/100\n",
      "4/4 [==============================] - 0s 2ms/step - loss: 0.7146 - accuracy: 0.7232\n",
      "Epoch 40/100\n",
      "4/4 [==============================] - 0s 1ms/step - loss: 0.6993 - accuracy: 0.7143\n",
      "Epoch 41/100\n",
      "4/4 [==============================] - 0s 2ms/step - loss: 0.6849 - accuracy: 0.7321\n",
      "Epoch 42/100\n",
      "4/4 [==============================] - 0s 2ms/step - loss: 0.6706 - accuracy: 0.7321\n",
      "Epoch 43/100\n",
      "4/4 [==============================] - 0s 3ms/step - loss: 0.6565 - accuracy: 0.7321\n",
      "Epoch 44/100\n",
      "4/4 [==============================] - 0s 2ms/step - loss: 0.6439 - accuracy: 0.7232\n",
      "Epoch 45/100\n",
      "4/4 [==============================] - 0s 2ms/step - loss: 0.6300 - accuracy: 0.7143\n",
      "Epoch 46/100\n",
      "4/4 [==============================] - 0s 1ms/step - loss: 0.6181 - accuracy: 0.7143\n",
      "Epoch 47/100\n",
      "4/4 [==============================] - 0s 2ms/step - loss: 0.6063 - accuracy: 0.7143\n",
      "Epoch 48/100\n",
      "4/4 [==============================] - 0s 2ms/step - loss: 0.5948 - accuracy: 0.7232\n",
      "Epoch 49/100\n",
      "4/4 [==============================] - 0s 2ms/step - loss: 0.5851 - accuracy: 0.7679\n",
      "Epoch 50/100\n",
      "4/4 [==============================] - 0s 2ms/step - loss: 0.5726 - accuracy: 0.7857\n",
      "Epoch 51/100\n",
      "4/4 [==============================] - 0s 2ms/step - loss: 0.5627 - accuracy: 0.7857\n",
      "Epoch 52/100\n",
      "4/4 [==============================] - 0s 2ms/step - loss: 0.5532 - accuracy: 0.8036\n",
      "Epoch 53/100\n",
      "4/4 [==============================] - 0s 2ms/step - loss: 0.5440 - accuracy: 0.8571\n",
      "Epoch 54/100\n",
      "4/4 [==============================] - 0s 2ms/step - loss: 0.5352 - accuracy: 0.8839\n",
      "Epoch 55/100\n",
      "4/4 [==============================] - 0s 2ms/step - loss: 0.5268 - accuracy: 0.8839\n",
      "Epoch 56/100\n",
      "4/4 [==============================] - 0s 2ms/step - loss: 0.5183 - accuracy: 0.8750\n",
      "Epoch 57/100\n",
      "4/4 [==============================] - 0s 2ms/step - loss: 0.5111 - accuracy: 0.8482\n",
      "Epoch 58/100\n",
      "4/4 [==============================] - 0s 2ms/step - loss: 0.5035 - accuracy: 0.8571\n",
      "Epoch 59/100\n",
      "4/4 [==============================] - 0s 2ms/step - loss: 0.4955 - accuracy: 0.8482\n",
      "Epoch 60/100\n",
      "4/4 [==============================] - 0s 1ms/step - loss: 0.4889 - accuracy: 0.8482\n",
      "Epoch 61/100\n",
      "4/4 [==============================] - 0s 2ms/step - loss: 0.4827 - accuracy: 0.8482\n",
      "Epoch 62/100\n",
      "4/4 [==============================] - 0s 2ms/step - loss: 0.4763 - accuracy: 0.8750\n",
      "Epoch 63/100\n",
      "4/4 [==============================] - 0s 1ms/step - loss: 0.4696 - accuracy: 0.8929\n",
      "Epoch 64/100\n",
      "4/4 [==============================] - 0s 2ms/step - loss: 0.4633 - accuracy: 0.8929\n",
      "Epoch 65/100\n",
      "4/4 [==============================] - 0s 2ms/step - loss: 0.4578 - accuracy: 0.9018\n",
      "Epoch 66/100\n",
      "4/4 [==============================] - 0s 2ms/step - loss: 0.4516 - accuracy: 0.9107\n",
      "Epoch 67/100\n",
      "4/4 [==============================] - 0s 2ms/step - loss: 0.4462 - accuracy: 0.9107\n",
      "Epoch 68/100\n",
      "4/4 [==============================] - 0s 2ms/step - loss: 0.4406 - accuracy: 0.9107\n",
      "Epoch 69/100\n",
      "4/4 [==============================] - 0s 1ms/step - loss: 0.4352 - accuracy: 0.9018\n",
      "Epoch 70/100\n",
      "4/4 [==============================] - 0s 2ms/step - loss: 0.4303 - accuracy: 0.9196\n",
      "Epoch 71/100\n",
      "4/4 [==============================] - 0s 2ms/step - loss: 0.4247 - accuracy: 0.9375\n",
      "Epoch 72/100\n",
      "4/4 [==============================] - 0s 2ms/step - loss: 0.4202 - accuracy: 0.9643\n",
      "Epoch 73/100\n",
      "4/4 [==============================] - 0s 2ms/step - loss: 0.4148 - accuracy: 0.9643\n",
      "Epoch 74/100\n",
      "4/4 [==============================] - 0s 2ms/step - loss: 0.4107 - accuracy: 0.9464\n",
      "Epoch 75/100\n",
      "4/4 [==============================] - 0s 2ms/step - loss: 0.4047 - accuracy: 0.9375\n",
      "Epoch 76/100\n",
      "4/4 [==============================] - 0s 2ms/step - loss: 0.4001 - accuracy: 0.9375\n",
      "Epoch 77/100\n",
      "4/4 [==============================] - 0s 1ms/step - loss: 0.3949 - accuracy: 0.9464\n",
      "Epoch 78/100\n",
      "4/4 [==============================] - 0s 2ms/step - loss: 0.3915 - accuracy: 0.9643\n",
      "Epoch 79/100\n",
      "4/4 [==============================] - 0s 2ms/step - loss: 0.3862 - accuracy: 0.9732\n",
      "Epoch 80/100\n",
      "4/4 [==============================] - 0s 2ms/step - loss: 0.3819 - accuracy: 0.9643\n",
      "Epoch 81/100\n",
      "4/4 [==============================] - 0s 2ms/step - loss: 0.3767 - accuracy: 0.9643\n",
      "Epoch 82/100\n",
      "4/4 [==============================] - 0s 2ms/step - loss: 0.3725 - accuracy: 0.9554\n",
      "Epoch 83/100\n",
      "4/4 [==============================] - 0s 2ms/step - loss: 0.3682 - accuracy: 0.9464\n",
      "Epoch 84/100\n",
      "4/4 [==============================] - 0s 2ms/step - loss: 0.3645 - accuracy: 0.9464\n",
      "Epoch 85/100\n",
      "4/4 [==============================] - 0s 2ms/step - loss: 0.3603 - accuracy: 0.9554\n",
      "Epoch 86/100\n",
      "4/4 [==============================] - 0s 2ms/step - loss: 0.3550 - accuracy: 0.9732\n",
      "Epoch 87/100\n",
      "4/4 [==============================] - 0s 2ms/step - loss: 0.3505 - accuracy: 0.9732\n",
      "Epoch 88/100\n",
      "4/4 [==============================] - 0s 2ms/step - loss: 0.3463 - accuracy: 0.9821\n",
      "Epoch 89/100\n",
      "4/4 [==============================] - 0s 2ms/step - loss: 0.3423 - accuracy: 0.9821\n",
      "Epoch 90/100\n",
      "4/4 [==============================] - 0s 2ms/step - loss: 0.3381 - accuracy: 0.9821\n",
      "Epoch 91/100\n",
      "4/4 [==============================] - 0s 2ms/step - loss: 0.3341 - accuracy: 0.9821\n",
      "Epoch 92/100\n",
      "4/4 [==============================] - 0s 2ms/step - loss: 0.3295 - accuracy: 0.9821\n",
      "Epoch 93/100\n",
      "4/4 [==============================] - 0s 2ms/step - loss: 0.3261 - accuracy: 0.9821\n",
      "Epoch 94/100\n",
      "4/4 [==============================] - 0s 2ms/step - loss: 0.3217 - accuracy: 0.9821\n",
      "Epoch 95/100\n",
      "4/4 [==============================] - 0s 2ms/step - loss: 0.3179 - accuracy: 0.9732\n",
      "Epoch 96/100\n",
      "4/4 [==============================] - 0s 2ms/step - loss: 0.3139 - accuracy: 0.9732\n",
      "Epoch 97/100\n",
      "4/4 [==============================] - 0s 2ms/step - loss: 0.3095 - accuracy: 0.9821\n",
      "Epoch 98/100\n",
      "4/4 [==============================] - 0s 2ms/step - loss: 0.3056 - accuracy: 0.9821\n",
      "Epoch 99/100\n",
      "4/4 [==============================] - 0s 3ms/step - loss: 0.3038 - accuracy: 0.9911\n",
      "Epoch 100/100\n",
      "4/4 [==============================] - 0s 2ms/step - loss: 0.2983 - accuracy: 0.9911\n"
     ]
    },
    {
     "data": {
      "text/plain": [
       "<keras.src.callbacks.History at 0x18268839dd0>"
      ]
     },
     "execution_count": 9,
     "metadata": {},
     "output_type": "execute_result"
    }
   ],
   "source": [
    "model.fit(train_X, train_y, epochs=100)"
   ]
  },
  {
   "cell_type": "code",
   "execution_count": 10,
   "id": "a14d8331-ec03-4041-8017-e0bf5e492e33",
   "metadata": {},
   "outputs": [
    {
     "name": "stdout",
     "output_type": "stream",
     "text": [
      "2/2 [==============================] - 0s 3ms/step - loss: 0.3492 - accuracy: 0.9211\n"
     ]
    },
    {
     "data": {
      "text/plain": [
       "[0.34922218322753906, 0.9210526347160339]"
      ]
     },
     "execution_count": 10,
     "metadata": {},
     "output_type": "execute_result"
    }
   ],
   "source": [
    "model.evaluate(test_X, test_y)"
   ]
  },
  {
   "cell_type": "code",
   "execution_count": 11,
   "id": "deaf0bd4-23ca-409f-97ea-17892f019e75",
   "metadata": {},
   "outputs": [
    {
     "name": "stdout",
     "output_type": "stream",
     "text": [
      "2/2 [==============================] - 0s 2ms/step\n"
     ]
    }
   ],
   "source": [
    "pred = model.predict(test_X)"
   ]
  },
  {
   "cell_type": "code",
   "execution_count": 12,
   "id": "4c6fdcfa-a76f-4f6e-857e-0fd78b616cd6",
   "metadata": {},
   "outputs": [
    {
     "name": "stdout",
     "output_type": "stream",
     "text": [
      "[[0.00871317 0.39609638 0.5951904 ]\n",
      " [0.92323273 0.0717031  0.00506415]\n",
      " [0.00392276 0.28295276 0.71312445]\n",
      " [0.00369557 0.27996156 0.71634287]\n",
      " [0.95158726 0.04510108 0.00331168]\n",
      " [0.00357526 0.2735005  0.72292423]\n",
      " [0.02473108 0.55446255 0.42080632]\n",
      " [0.94556123 0.05076113 0.00367756]\n",
      " [0.94021916 0.05576579 0.00401502]\n",
      " [0.9257876  0.06930573 0.00490657]\n",
      " [0.03322063 0.60008246 0.3666969 ]\n",
      " [0.90311784 0.09047557 0.00640667]\n",
      " [0.00287854 0.24654971 0.7505717 ]\n",
      " [0.07611018 0.67980236 0.24408741]\n",
      " [0.9539307  0.04288302 0.00318629]\n",
      " [0.01204445 0.44481826 0.5431374 ]\n",
      " [0.03522092 0.5995073  0.36527175]\n",
      " [0.00237365 0.22767524 0.7699511 ]\n",
      " [0.02316828 0.5469289  0.42990285]\n",
      " [0.93522537 0.06045661 0.00431797]\n",
      " [0.9213072  0.07350219 0.00519055]\n",
      " [0.0304674  0.5867435  0.38278913]\n",
      " [0.00256241 0.23590003 0.76153755]\n",
      " [0.01066253 0.42986876 0.5594686 ]\n",
      " [0.9279607  0.06727719 0.0047622 ]\n",
      " [0.01133581 0.4394878  0.54917645]\n",
      " [0.00320315 0.25916427 0.7376325 ]\n",
      " [0.05263239 0.64868486 0.29868275]\n",
      " [0.93455344 0.06108808 0.00435844]\n",
      " [0.08134246 0.6866308  0.23202671]\n",
      " [0.0052518  0.3246751  0.67007315]\n",
      " [0.08592118 0.6906078  0.22347099]\n",
      " [0.93181837 0.06364102 0.00454063]\n",
      " [0.00750421 0.374392   0.6181038 ]\n",
      " [0.03639024 0.60942674 0.35418302]\n",
      " [0.02658968 0.56465703 0.40875328]\n",
      " [0.02882209 0.5809834  0.39019454]\n",
      " [0.01345119 0.45969996 0.5268488 ]]\n"
     ]
    }
   ],
   "source": [
    "print(pred)"
   ]
  },
  {
   "cell_type": "code",
   "execution_count": 13,
   "id": "d6de8b28-27eb-4d9c-a8ff-daaa84e669f4",
   "metadata": {},
   "outputs": [
    {
     "name": "stdout",
     "output_type": "stream",
     "text": [
      "<class 'numpy.ndarray'>\n"
     ]
    }
   ],
   "source": [
    "print(type(pred))"
   ]
  },
  {
   "cell_type": "code",
   "execution_count": 14,
   "id": "571a06b8-a50c-46d0-97dd-db32f0be5274",
   "metadata": {},
   "outputs": [
    {
     "name": "stdout",
     "output_type": "stream",
     "text": [
      "[2 0 2 2 0 2 1 0 0 0 1 0 2 1 0 2 1 2 1 0 0 1 2 2 0 2 2 1 0 1 2 1 0 2 1 1 1\n",
      " 2]\n"
     ]
    }
   ],
   "source": [
    "print(np.argmax(pred, axis=1))"
   ]
  },
  {
   "cell_type": "code",
   "execution_count": 15,
   "id": "6a92183a-7165-4d36-8a34-12f20b1e4ad6",
   "metadata": {},
   "outputs": [
    {
     "name": "stdout",
     "output_type": "stream",
     "text": [
      "[2 0 2 2 0 2 1 0 0 0 1 0 2 1 0 1 1 2 1 0 0 1 2 2 0 1 2 1 0 1 2 1 0 2 1 1 1\n",
      " 1]\n"
     ]
    }
   ],
   "source": [
    "print(test_y)"
   ]
  },
  {
   "cell_type": "code",
   "execution_count": null,
   "id": "27c39f37-b871-4732-aa7e-5065da306c54",
   "metadata": {},
   "outputs": [],
   "source": []
  }
 ],
 "metadata": {
  "kernelspec": {
   "display_name": "tf2.14",
   "language": "python",
   "name": "tf2.14"
  },
  "language_info": {
   "codemirror_mode": {
    "name": "ipython",
    "version": 3
   },
   "file_extension": ".py",
   "mimetype": "text/x-python",
   "name": "python",
   "nbconvert_exporter": "python",
   "pygments_lexer": "ipython3",
   "version": "3.11.9"
  }
 },
 "nbformat": 4,
 "nbformat_minor": 5
}
